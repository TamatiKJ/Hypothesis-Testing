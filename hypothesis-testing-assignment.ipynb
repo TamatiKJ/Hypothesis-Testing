{
 "cells": [
  {
   "cell_type": "markdown",
   "metadata": {},
   "source": [
    "Question 1\n",
    "Problem Statement: \n",
    "You are given a dataset containing the heights of two groups of students: Group A and Group B. Group A consists of 30 students, and Group B consists of 35 students. The objective is to determine if there is a significant difference in the average height between these two groups.\n",
    "Perform a hypothesis test to determine if there is a significant difference in the average height between Group A and Group B."
   ]
  },
  {
   "cell_type": "code",
   "execution_count": 55,
   "metadata": {},
   "outputs": [],
   "source": [
    "import numpy as np\n",
    "from scipy import stats"
   ]
  },
  {
   "cell_type": "code",
   "execution_count": 56,
   "metadata": {},
   "outputs": [],
   "source": [
    "# Heights in inches\n",
    "group_a_heights = np.array([65.2, 67.8, 68.5, 64.7, 69.1, 66.5, 70.2, 68.9, 67.3, 68.1, 66.7, 67.8, 65.6, 68.3, 67.4, 68.7, 65.8, 66.9, 67.2, 68.0, 66.1, 66.4, 67.0, 68.2, 65.9, 66.3, 67.1, 68.6, 66.8, 68.4])\n",
    "group_b_heights = np.array([70.5, 69.2, 72.1, 71.0, 69.9, 70.3, 68.7, 71.5, 70.8, 69.7, 70.1, 72.3, 69.8, 71.2, 69.4, 70.6, 70.7, 71.8, 69.6, 70.4, 71.4, 71.9, 69.3, 71.7, 72.0, 70.9, 70.0, 69.5, 71.3, 72.2, 70.6, 71.1, 70.5, 71.6])"
   ]
  },
  {
   "cell_type": "code",
   "execution_count": 57,
   "metadata": {},
   "outputs": [],
   "source": [
    "# Perform a two-sample t-test\n",
    "t_stat, p_value = stats.ttest_ind(group_a_heights, group_b_heights)"
   ]
  },
  {
   "cell_type": "code",
   "execution_count": 58,
   "metadata": {},
   "outputs": [],
   "source": [
    "# Set the significance level (alpha)\n",
    "alpha = 0.05"
   ]
  },
  {
   "cell_type": "code",
   "execution_count": 59,
   "metadata": {},
   "outputs": [
    {
     "name": "stdout",
     "output_type": "stream",
     "text": [
      "T-statistic: -12.007312220667377\n",
      "P-value: 7.972309570349897e-18\n"
     ]
    }
   ],
   "source": [
    "# Print the results\n",
    "print(\"T-statistic:\", t_stat)\n",
    "print(\"P-value:\", p_value)"
   ]
  },
  {
   "cell_type": "code",
   "execution_count": 60,
   "metadata": {},
   "outputs": [
    {
     "name": "stdout",
     "output_type": "stream",
     "text": [
      "Reject the null hypothesis: There is a significant difference in the average height between Group A and Group B.\n"
     ]
    }
   ],
   "source": [
    "if p_value < alpha:\n",
    "    print(\"Reject the null hypothesis: There is a significant difference in the average height between Group A and Group B.\")\n",
    "else:\n",
    "    print(\"Fail to reject the null hypothesis: There is no significant difference in the average height between Group A and Group B.\")"
   ]
  },
  {
   "cell_type": "markdown",
   "metadata": {},
   "source": [
    "Question 2\n",
    "Problem Statement: \n",
    "You have a dataset of exam scores for two different classes: Class X and Class Y. You want to test if there is enough evidence to conclude that Class X has a higher average exam score than Class Y.\n",
    "Conduct a hypothesis test to determine if Class X has a significantly higher average exam score than Class Y."
   ]
  },
  {
   "cell_type": "code",
   "execution_count": 61,
   "metadata": {},
   "outputs": [],
   "source": [
    "# Exam scores for Class X\n",
    "class_x_scores = np.array([85, 88, 92, 78, 90, 85, 88, 94, 89, 87, 82, 91, 86, 93, 84, 89, 88, 86, 85, 87])\n",
    "\n",
    "# Exam scores for Class Y\n",
    "class_y_scores = np.array([78, 82, 80, 75, 79, 81, 77, 84, 80, 85, 79, 83, 80, 82, 76, 80, 78, 81, 77, 82])"
   ]
  },
  {
   "cell_type": "code",
   "execution_count": 62,
   "metadata": {},
   "outputs": [],
   "source": [
    "# Perform a two-sample t-test\n",
    "t_stat, p_value = stats.ttest_ind(class_x_scores, class_y_scores)"
   ]
  },
  {
   "cell_type": "code",
   "execution_count": 63,
   "metadata": {},
   "outputs": [],
   "source": [
    "# Set the significance level (alpha)\n",
    "alpha = 0.05"
   ]
  },
  {
   "cell_type": "code",
   "execution_count": 64,
   "metadata": {},
   "outputs": [
    {
     "name": "stdout",
     "output_type": "stream",
     "text": [
      "T-statistic: 7.163546573226256\n",
      "P-value: 1.479139983914788e-08\n",
      "Reject the null hypothesis: Class X has a significantly higher average exam score than Class Y.\n"
     ]
    }
   ],
   "source": [
    "# Print the results\n",
    "print(\"T-statistic:\", t_stat)\n",
    "print(\"P-value:\", p_value)\n",
    "\n",
    "if p_value < alpha:\n",
    "    print(\"Reject the null hypothesis: Class X has a significantly higher average exam score than Class Y.\")\n",
    "else:\n",
    "    print(\"Fail to reject the null hypothesis: There is no significant difference in the average exam scores between Class X and Class Y.\")"
   ]
  },
  {
   "cell_type": "markdown",
   "metadata": {},
   "source": [
    "Question 3\n",
    "Problem Statement: \n",
    "You are given data on the commute times of two groups of employees: Group P and Group Q. You want to investigate if there is a significant difference in the average commute time between these two groups.\n",
    "Perform a hypothesis test to determine if there is a significant difference in the average commute time between Group P and Group Q."
   ]
  },
  {
   "cell_type": "code",
   "execution_count": 65,
   "metadata": {},
   "outputs": [],
   "source": [
    "# Commute times in minutes for Group P\n",
    "group_p_commute_times = np.array([25, 30, 22, 28, 35, 27, 32, 29, 31, 24, 26, 28, 33, 30, 34, 27, 25, 28, 29, 31])\n",
    "\n",
    "# Commute times in minutes for Group Q\n",
    "group_q_commute_times = np.array([40, 45, 38, 42, 37, 39, 43, 41, 44, 38, 42, 36, 40, 41, 39, 38, 37, 42, 40, 43])"
   ]
  },
  {
   "cell_type": "code",
   "execution_count": 66,
   "metadata": {},
   "outputs": [],
   "source": [
    "# Perform a two-sample t-test\n",
    "t_stat, p_value = stats.ttest_ind(group_p_commute_times, group_q_commute_times)\n",
    "\n",
    "# Set the significance level (alpha)\n",
    "alpha = 0.05"
   ]
  },
  {
   "cell_type": "code",
   "execution_count": 67,
   "metadata": {},
   "outputs": [
    {
     "name": "stdout",
     "output_type": "stream",
     "text": [
      "T-statistic: -12.211422562749611\n",
      "P-value: 1.0032588560001946e-14\n",
      "Reject the null hypothesis: There is a significant difference in the average commute time between Group P and Group Q.\n"
     ]
    }
   ],
   "source": [
    "# Print the results\n",
    "print(\"T-statistic:\", t_stat)\n",
    "print(\"P-value:\", p_value)\n",
    "\n",
    "if p_value < alpha:\n",
    "    print(\"Reject the null hypothesis: There is a significant difference in the average commute time between Group P and Group Q.\")\n",
    "else:\n",
    "    print(\"Fail to reject the null hypothesis: There is no significant difference in the average commute time between Group P and Group Q.\")"
   ]
  },
  {
   "cell_type": "markdown",
   "metadata": {},
   "source": [
    "Question 4: One Sample T-Test\n",
    "Problem Statement:\n",
    "A company claims that their new product has an average lifespan of 3000 hours. You are given a sample of 20 products, and you want to test if the average lifespan of these products is significantly different from the claimed value."
   ]
  },
  {
   "cell_type": "code",
   "execution_count": 68,
   "metadata": {},
   "outputs": [],
   "source": [
    "# Sample data for product lifespans\n",
    "sample_data = np.array([2950, 3100, 2990, 3010, 3050, 2960, 3080, 2975, 3025, 3005, 3035, 2998, 2987, 3042, 3067, 3075, 2988, 3030, 2995, 3018])\n",
    "\n",
    "# Claimed average lifespan\n",
    "claimed_lifespan = 3000"
   ]
  },
  {
   "cell_type": "code",
   "execution_count": 69,
   "metadata": {},
   "outputs": [],
   "source": [
    "# Perform a one-sample t-test\n",
    "t_stat, p_value = stats.ttest_1samp(sample_data, claimed_lifespan)\n",
    "\n",
    "# Set the significance level (alpha)\n",
    "alpha = 0.05"
   ]
  },
  {
   "cell_type": "code",
   "execution_count": 70,
   "metadata": {},
   "outputs": [
    {
     "name": "stdout",
     "output_type": "stream",
     "text": [
      "T-statistic: 2.0729400778471794\n",
      "P-value: 0.05202229938467258\n",
      "Fail to reject the null hypothesis: There is no significant difference in the average lifespan of the products from the claimed value.\n"
     ]
    }
   ],
   "source": [
    "# Print the results\n",
    "print(\"T-statistic:\", t_stat)\n",
    "print(\"P-value:\", p_value)\n",
    "\n",
    "if p_value < alpha:\n",
    "    print(\"Reject the null hypothesis: The average lifespan of the products is significantly different from the claimed value.\")\n",
    "else:\n",
    "    print(\"Fail to reject the null hypothesis: There is no significant difference in the average lifespan of the products from the claimed value.\")"
   ]
  },
  {
   "cell_type": "markdown",
   "metadata": {},
   "source": [
    "Question 5: Two-Sample T-Test\n",
    "Problem Statement:\n",
    "You are given data on the test scores of two groups of students, Group A and Group B. You want to determine if there is a significant difference in the average test scores between the two groups."
   ]
  },
  {
   "cell_type": "code",
   "execution_count": 71,
   "metadata": {},
   "outputs": [],
   "source": [
    "# Sample data for test scores of two groups\n",
    "group_a_scores = np.array([85, 92, 88, 78, 95, 89, 76, 82, 91, 84])\n",
    "group_b_scores = np.array([79, 81, 88, 75, 90, 86, 82, 87, 78, 92])"
   ]
  },
  {
   "cell_type": "code",
   "execution_count": 72,
   "metadata": {},
   "outputs": [
    {
     "name": "stdout",
     "output_type": "stream",
     "text": [
      "T-statistic: 2.0729400778471794\n",
      "P-value: 0.05202229938467258\n",
      "Fail to reject the null hypothesis: There is no significant difference in the average test scores between Group A and Group B.\n"
     ]
    }
   ],
   "source": [
    "# Print the results\n",
    "print(\"T-statistic:\", t_stat)\n",
    "print(\"P-value:\", p_value)\n",
    "\n",
    "if p_value < alpha:\n",
    "    print(\"Reject the null hypothesis: There is a significant difference in the average test scores between Group A and Group B.\")\n",
    "else:\n",
    "    print(\"Fail to reject the null hypothesis: There is no significant difference in the average test scores between Group A and Group B.\")"
   ]
  },
  {
   "cell_type": "markdown",
   "metadata": {},
   "source": [
    "Question 6: Chi-Square Test for Independence\n",
    "Problem Statement:\n",
    "You have data on the preferences of 100 students with respect to two soft drink brands (Brand X and Brand Y) and their gender (Male or Female). You want to test if there is a significant association between gender and soft drink preference."
   ]
  },
  {
   "cell_type": "code",
   "execution_count": 73,
   "metadata": {},
   "outputs": [],
   "source": [
    "import numpy as np\n",
    "from scipy.stats import chi2_contingency"
   ]
  },
  {
   "cell_type": "code",
   "execution_count": 74,
   "metadata": {},
   "outputs": [],
   "source": [
    "# Sample data for preferences and gender\n",
    "preferences = np.array(['X', 'Y', 'X', 'Y', 'X', 'Y', 'X', 'Y', 'X', 'Y',\n",
    "                         'X', 'Y', 'X', 'Y', 'X', 'Y', 'X', 'Y', 'X', 'Y',\n",
    "                         'X', 'Y', 'X', 'Y', 'X', 'Y', 'X', 'Y', 'X', 'Y',\n",
    "                         'X', 'Y', 'X', 'Y', 'X', 'Y', 'X', 'Y', 'X', 'Y',\n",
    "                         'X', 'Y', 'X', 'Y', 'X', 'Y', 'X', 'Y', 'X', 'Y',\n",
    "                         'X', 'Y', 'X', 'Y', 'X', 'Y', 'X', 'Y', 'X', 'Y',\n",
    "                         'X', 'Y', 'X', 'Y', 'X', 'Y', 'X', 'Y', 'X', 'Y',\n",
    "                         'X', 'Y', 'X', 'Y', 'X', 'Y', 'X', 'Y', 'X', 'Y',\n",
    "                         'X', 'Y', 'X', 'Y', 'X', 'Y', 'X', 'Y', 'X', 'Y'])\n",
    "gender = np.array(['Male', 'Female', 'Male', 'Female', 'Male', 'Female', 'Male', 'Female', 'Male', 'Female',\n",
    "                   'Male', 'Female', 'Male', 'Female', 'Male', 'Female', 'Male', 'Female', 'Male', 'Female',\n",
    "                   'Male', 'Female', 'Male', 'Female', 'Male', 'Female', 'Male', 'Female', 'Male', 'Female',\n",
    "                   'Male', 'Female', 'Male', 'Female', 'Male', 'Female', 'Male', 'Female', 'Male', 'Female',\n",
    "                   'Male', 'Female', 'Male', 'Female', 'Male', 'Female', 'Male', 'Female', 'Male', 'Female',\n",
    "                   'Male', 'Female', 'Male', 'Female', 'Male', 'Female', 'Male', 'Female', 'Male', 'Female',\n",
    "                   'Male', 'Female', 'Male', 'Female', 'Male', 'Female', 'Male', 'Female', 'Male', 'Female',\n",
    "                   'Male', 'Female', 'Male', 'Female', 'Male', 'Female', 'Male', 'Female', 'Male', 'Female',\n",
    "                   'Male', 'Female', 'Male', 'Female', 'Male', 'Female', 'Male', 'Female', 'Male', 'Female'])"
   ]
  },
  {
   "cell_type": "code",
   "execution_count": 75,
   "metadata": {},
   "outputs": [],
   "source": [
    "# Create a contingency table\n",
    "contingency_table = np.array([[np.sum((preferences == 'X') & (gender == 'Male')),\n",
    "                               np.sum((preferences == 'Y') & (gender == 'Male'))],\n",
    "                              [np.sum((preferences == 'X') & (gender == 'Female')),\n",
    "                               np.sum((preferences == 'Y') & (gender == 'Female'))]])"
   ]
  },
  {
   "cell_type": "code",
   "execution_count": 76,
   "metadata": {},
   "outputs": [],
   "source": [
    "# Perform Chi-Square Test for Independence\n",
    "chi2_stat, p_value, dof, expected = chi2_contingency(contingency_table)\n",
    "\n",
    "# Set the significance level (alpha)\n",
    "alpha = 0.05"
   ]
  },
  {
   "cell_type": "code",
   "execution_count": 77,
   "metadata": {},
   "outputs": [
    {
     "name": "stdout",
     "output_type": "stream",
     "text": [
      "Chi-Square Statistic: 86.04444444444445\n",
      "P-value: 1.7593671537538774e-20\n",
      "Degrees of Freedom: 1\n",
      "Expected Frequencies Table:\n",
      " [[22.5 22.5]\n",
      " [22.5 22.5]]\n",
      "Reject the null hypothesis: There is a significant association between gender and soft drink preference.\n"
     ]
    }
   ],
   "source": [
    "# Print the results\n",
    "print(\"Chi-Square Statistic:\", chi2_stat)\n",
    "print(\"P-value:\", p_value)\n",
    "print(\"Degrees of Freedom:\", dof)\n",
    "print(\"Expected Frequencies Table:\\n\", expected)\n",
    "\n",
    "if p_value < alpha:\n",
    "    print(\"Reject the null hypothesis: There is a significant association between gender and soft drink preference.\")\n",
    "else:\n",
    "    print(\"Fail to reject the null hypothesis: There is no significant association between gender and soft drink preference.\")"
   ]
  }
 ],
 "metadata": {
  "kernelspec": {
   "display_name": "Python 3",
   "language": "python",
   "name": "python3"
  },
  "language_info": {
   "codemirror_mode": {
    "name": "ipython",
    "version": 3
   },
   "file_extension": ".py",
   "mimetype": "text/x-python",
   "name": "python",
   "nbconvert_exporter": "python",
   "pygments_lexer": "ipython3",
   "version": "3.11.5"
  },
  "orig_nbformat": 4
 },
 "nbformat": 4,
 "nbformat_minor": 2
}
